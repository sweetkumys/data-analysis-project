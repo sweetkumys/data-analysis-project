{
 "cells": [
  {
   "cell_type": "code",
   "execution_count": 4,
   "id": "a2364bab-9f02-4513-a05f-2b335d4c5d2b",
   "metadata": {},
   "outputs": [
    {
     "name": "stdout",
     "output_type": "stream",
     "text": [
      "Data successfully written to kingfisher.csv\n"
     ]
    }
   ],
   "source": [
    "import requests\n",
    "from bs4 import BeautifulSoup\n",
    "import csv\n",
    "\n",
    "def scrape_kingfisher():\n",
    "    category_urls = [\n",
    "        \"https://kingfisher.kz/ryba/\",\n",
    "        \"https://kingfisher.kz/ikra/\",\n",
    "        \"https://kingfisher.kz/myaso/\",\n",
    "        \"https://kingfisher.kz/antipasti/\",\n",
    "        \"https://kingfisher.kz/bakaleya/\",\n",
    "        \"https://kingfisher.kz/sneki-i-orehi/\",\n",
    "        \"https://kingfisher.kz/maslo/\",\n",
    "        \"https://kingfisher.kz/cheeses/\",\n",
    "    ]\n",
    "    headers = {\n",
    "        \"User-Agent\": \"Mozilla/5.0 (Windows NT 10.0; Win64; x64) AppleWebKit/537.36 (KHTML, like Gecko) Chrome/114.0.0.0 Safari/537.36\"\n",
    "    }\n",
    "    \n",
    "    all_products = []\n",
    "    \n",
    "    for link in category_urls:\n",
    "        all_products.extend(extract_category_data(link, headers))\n",
    "    \n",
    "    write_to_csv(all_products, \"kingfisher.csv\")\n",
    "\n",
    "\n",
    "def extract_category_data(category_url, headers):\n",
    "    \"\"\"Fetch and parse product data from a single category page.\"\"\"\n",
    "    try:\n",
    "        response = requests.get(category_url, headers=headers)\n",
    "        response.raise_for_status()\n",
    "        \n",
    "        soup = BeautifulSoup(response.content, 'html.parser')\n",
    "        category_title = soup.find(\"h1\", class_=\"title\").text.strip() if soup.find(\"h1\", class_=\"title\") else \"Unknown\"\n",
    "        \n",
    "        product_blocks = soup.select(\"div.goodsBlock\")\n",
    "        category_products = []\n",
    "        \n",
    "        for block in product_blocks:\n",
    "            try:\n",
    "                product_name = block.select_one(\"a.title span\").text.strip() if block.select_one(\"a.title span\") else \"Unnamed\"\n",
    "                product_price = block.select_one(\"span.price span.new\").text.strip() if block.select_one(\"span.price span.new\") else \"Price not available\"\n",
    "                city = \"Astana\"\n",
    "                \n",
    "                category_products.append({\n",
    "                    \"Product Name\": product_name,\n",
    "                    \"Category\": category_title,\n",
    "                    \"Price\": product_price,\n",
    "                    \"City\": city\n",
    "                })\n",
    "            except Exception as e:\n",
    "                print(f\"Error parsing product block: {e}\")\n",
    "        return category_products\n",
    "    except requests.RequestException as e:\n",
    "        print(f\"Failed to load category page {category_url}: {e}\")\n",
    "        return []\n",
    "\n",
    "\n",
    "def write_to_csv(data, filename):\n",
    "    \"\"\"Save product data to a CSV file.\"\"\"\n",
    "    headers = [\"Product Name\", \"Category\", \"Price\", \"City\"]\n",
    "    try:\n",
    "        with open(filename, mode=\"w\", encoding=\"utf-8\", newline=\"\") as csvfile:\n",
    "            writer = csv.DictWriter(csvfile, fieldnames=headers)\n",
    "            writer.writeheader()\n",
    "            writer.writerows(data)\n",
    "        print(f\"Data successfully written to {filename}\")\n",
    "    except IOError as e:\n",
    "        print(f\"Error writing to file: {e}\")\n",
    "\n",
    "\n",
    "if __name__ == \"__main__\":\n",
    "    scrape_kingfisher()\n"
   ]
  },
  {
   "cell_type": "code",
   "execution_count": null,
   "id": "e0a11f8a-d76c-438b-bc64-4ef8f7d274af",
   "metadata": {},
   "outputs": [],
   "source": []
  }
 ],
 "metadata": {
  "kernelspec": {
   "display_name": "Python 3 (ipykernel)",
   "language": "python",
   "name": "python3"
  },
  "language_info": {
   "codemirror_mode": {
    "name": "ipython",
    "version": 3
   },
   "file_extension": ".py",
   "mimetype": "text/x-python",
   "name": "python",
   "nbconvert_exporter": "python",
   "pygments_lexer": "ipython3",
   "version": "3.12.4"
  }
 },
 "nbformat": 4,
 "nbformat_minor": 5
}
